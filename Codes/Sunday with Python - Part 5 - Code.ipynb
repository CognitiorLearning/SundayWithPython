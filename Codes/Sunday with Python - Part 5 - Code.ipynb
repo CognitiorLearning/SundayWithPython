{
 "cells": [
  {
   "cell_type": "code",
   "execution_count": 1,
   "metadata": {},
   "outputs": [],
   "source": [
    "Section1 = [23,34,32,33,23,22,12,22,34,33,22,23,22,32,43]\n",
    "Section2 = [23,67,66,5,77,56,55,87,67,67,56,56,76,43,33,34,33,33,33,45,65,76,77]"
   ]
  },
  {
   "cell_type": "code",
   "execution_count": 2,
   "metadata": {},
   "outputs": [
    {
     "name": "stdout",
     "output_type": "stream",
     "text": [
      "[23, 34, 33, 43]\n"
     ]
    }
   ],
   "source": [
    "common_ages = []\n",
    "for item in Section1:\n",
    "    if item in Section2:\n",
    "        if item not in common_ages:\n",
    "            common_ages.append(item)\n",
    "print(common_ages)"
   ]
  }
 ],
 "metadata": {
  "kernelspec": {
   "display_name": "Python 3",
   "language": "python",
   "name": "python3"
  },
  "language_info": {
   "codemirror_mode": {
    "name": "ipython",
    "version": 3
   },
   "file_extension": ".py",
   "mimetype": "text/x-python",
   "name": "python",
   "nbconvert_exporter": "python",
   "pygments_lexer": "ipython3",
   "version": "3.6.8"
  }
 },
 "nbformat": 4,
 "nbformat_minor": 2
}

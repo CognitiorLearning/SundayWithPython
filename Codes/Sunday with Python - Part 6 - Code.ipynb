{
 "cells": [
  {
   "cell_type": "code",
   "execution_count": 4,
   "metadata": {},
   "outputs": [
    {
     "name": "stdout",
     "output_type": "stream",
     "text": [
      "Type a word:Rahul\n",
      "No it is not palindrome\n"
     ]
    }
   ],
   "source": [
    "user_input = input('Type a word:' )\n",
    "if user_input == user_input[::-1]:\n",
    "    print('Yes it is palindrome')\n",
    "else:\n",
    "    print('No it is not palindrome')"
   ]
  }
 ],
 "metadata": {
  "kernelspec": {
   "display_name": "Python 3",
   "language": "python",
   "name": "python3"
  },
  "language_info": {
   "codemirror_mode": {
    "name": "ipython",
    "version": 3
   },
   "file_extension": ".py",
   "mimetype": "text/x-python",
   "name": "python",
   "nbconvert_exporter": "python",
   "pygments_lexer": "ipython3",
   "version": "3.6.8"
  }
 },
 "nbformat": 4,
 "nbformat_minor": 2
}

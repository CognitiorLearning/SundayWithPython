{
 "cells": [
  {
   "cell_type": "code",
   "execution_count": 1,
   "metadata": {},
   "outputs": [
    {
     "name": "stdout",
     "output_type": "stream",
     "text": [
      "18\n",
      "22\n",
      "23\n",
      "45\n",
      "34\n",
      "45\n",
      "34\n",
      "33\n",
      "23\n",
      "22\n",
      "[18, 22, 23, 45, 34, 45, 34, 33, 23, 22]\n"
     ]
    }
   ],
   "source": [
    "weights_list = [18,22,23,45,58,76,34,45,65,67,66,76,34,55,65,33,23,22,76,66]\n",
    "weights_50_orless = []\n",
    "for i in weights_list:\n",
    "    if i < 50:\n",
    "        print(i)\n",
    "        weights_50_orless.append(i)\n",
    "print(weights_50_orless)"
   ]
  }
 ],
 "metadata": {
  "kernelspec": {
   "display_name": "Python 3",
   "language": "python",
   "name": "python3"
  },
  "language_info": {
   "codemirror_mode": {
    "name": "ipython",
    "version": 3
   },
   "file_extension": ".py",
   "mimetype": "text/x-python",
   "name": "python",
   "nbconvert_exporter": "python",
   "pygments_lexer": "ipython3",
   "version": "3.6.8"
  }
 },
 "nbformat": 4,
 "nbformat_minor": 2
}

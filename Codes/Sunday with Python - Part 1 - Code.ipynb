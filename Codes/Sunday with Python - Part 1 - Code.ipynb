{
 "cells": [
  {
   "cell_type": "code",
   "execution_count": 2,
   "metadata": {},
   "outputs": [
    {
     "name": "stdout",
     "output_type": "stream",
     "text": [
      "Hello\n",
      "What is your name?Rahul\n",
      "How old are you?33\n",
      "What year is current?2019\n",
      "Rahul will be 45 years old in the year 2031\n"
     ]
    }
   ],
   "source": [
    "print('Hello')\n",
    "Name = input('What is your name?')\n",
    "age = int(input('How old are you?'))\n",
    "WhatYear= int(input('What year is current?'))\n",
    "year = str((WhatYear-age)+45)\n",
    "print(Name + \" \" + 'will be 45 years old in the year' +\" \" + year)"
   ]
  }
 ],
 "metadata": {
  "kernelspec": {
   "display_name": "Python 3",
   "language": "python",
   "name": "python3"
  },
  "language_info": {
   "codemirror_mode": {
    "name": "ipython",
    "version": 3
   },
   "file_extension": ".py",
   "mimetype": "text/x-python",
   "name": "python",
   "nbconvert_exporter": "python",
   "pygments_lexer": "ipython3",
   "version": "3.6.8"
  }
 },
 "nbformat": 4,
 "nbformat_minor": 2
}

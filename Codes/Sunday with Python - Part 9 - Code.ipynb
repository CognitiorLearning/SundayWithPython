{
 "cells": [
  {
   "cell_type": "code",
   "execution_count": 6,
   "metadata": {},
   "outputs": [
    {
     "name": "stdout",
     "output_type": "stream",
     "text": [
      "Insert a number: 31\n",
      "Its a prime number\n"
     ]
    }
   ],
   "source": [
    "num = int(input('Insert a number: '))\n",
    "x = [y for y in range(2,num) if num%y==0]\n",
    "\n",
    "def is_prime(n):\n",
    "    if num>1:\n",
    "        if len(x)==0:\n",
    "            print('Its a prime number')\n",
    "        else:\n",
    "            print('Its not a prime number')\n",
    "    else:\n",
    "        print('Not a prime number')\n",
    "is_prime(num)"
   ]
  }
 ],
 "metadata": {
  "kernelspec": {
   "display_name": "Python 3",
   "language": "python",
   "name": "python3"
  },
  "language_info": {
   "codemirror_mode": {
    "name": "ipython",
    "version": 3
   },
   "file_extension": ".py",
   "mimetype": "text/x-python",
   "name": "python",
   "nbconvert_exporter": "python",
   "pygments_lexer": "ipython3",
   "version": "3.6.8"
  }
 },
 "nbformat": 4,
 "nbformat_minor": 2
}

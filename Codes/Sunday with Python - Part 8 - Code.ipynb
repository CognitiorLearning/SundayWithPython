{
 "cells": [
  {
   "cell_type": "code",
   "execution_count": 2,
   "metadata": {},
   "outputs": [
    {
     "name": "stdout",
     "output_type": "stream",
     "text": [
      "Guess a number between 2 and 12: 8\n",
      "Your guess is too high\n",
      "If you want to continue? (Y/N)Y\n",
      "Guess a number between 2 and 12: 4\n",
      "Your guess is too high\n",
      "If you want to continue? (Y/N)Y\n",
      "Guess a number between 2 and 12: 2\n",
      "Your guess is too low\n",
      "If you want to continue? (Y/N)N\n",
      "3\n"
     ]
    }
   ],
   "source": [
    "from random import randint\n",
    "rand = randint(2,12)\n",
    "\n",
    "while True:\n",
    "    guess = int(input('Guess a number between 2 and 12: '))\n",
    "    if guess== rand:\n",
    "        print('You guessed right')\n",
    "        break\n",
    "    else:\n",
    "        if guess < rand:\n",
    "            print('Your guess is too low')\n",
    "        elif guess > rand:\n",
    "            print('Your guess is too high')\n",
    "        \n",
    "        y = input('If you want to continue? (Y/N)').upper()\n",
    "        if y=='N':\n",
    "            print(rand)\n",
    "            break"
   ]
  }
 ],
 "metadata": {
  "kernelspec": {
   "display_name": "Python 3",
   "language": "python",
   "name": "python3"
  },
  "language_info": {
   "codemirror_mode": {
    "name": "ipython",
    "version": 3
   },
   "file_extension": ".py",
   "mimetype": "text/x-python",
   "name": "python",
   "nbconvert_exporter": "python",
   "pygments_lexer": "ipython3",
   "version": "3.6.8"
  }
 },
 "nbformat": 4,
 "nbformat_minor": 2
}
